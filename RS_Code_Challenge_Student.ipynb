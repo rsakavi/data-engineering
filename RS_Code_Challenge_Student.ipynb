{
  "nbformat": 4,
  "nbformat_minor": 0,
  "metadata": {
    "colab": {
      "name": "RS_Code_Challenge_Student.ipynb",
      "provenance": [],
      "collapsed_sections": []
    },
    "kernelspec": {
      "name": "python3",
      "display_name": "Python 3"
    },
    "language_info": {
      "name": "python"
    }
  },
  "cells": [
    {
      "cell_type": "markdown",
      "source": [
        "#Data Bootcamp Selection Challenge\n",
        "#####In this challenge you will calculate various KPIs using a car based dataset, each question will have a single correct answer that will be evaluated through automated unit testing. Use the dictionary provided below to fill in your answers, each question will state the format required for the answer and examples are provided so you know how properly fill the answer dictionary. \n",
        "#####**Use the dataset \"as is\" and do not perform any data cleaning or modify it in any way, doing so could make you answer all your questions incorrectly. Do not modify the structure of the answer dictionary.**\n",
        "\n",
        "#####When you finish this challenge please upload both your notebook and your answer dictionary in pickle format to a public github repository submit their URL to the [google form](https://forms.gle/wWysZEMkoZsjB11Y7) that was provided to you.\n",
        "\n",
        "##### Some unit tests are provided at the end of this notebook to help you verify your answers are in the correct format, however they will not test everything.\n",
        "\n",
        "\n",
        "\n"
      ],
      "metadata": {
        "id": "Ab6tQ8XLwqzG"
      }
    },
    {
      "cell_type": "code",
      "execution_count": 1,
      "metadata": {
        "id": "1kj3oTmRvWXi"
      },
      "outputs": [],
      "source": [
        "#Use this dictionary to store your answers in the correct format in the cells below , do not modify the keys\n",
        "answer_dict =  {\"Q1\" : None,\n",
        "                \"Q2\" : None,\n",
        "                \"Q3\" : None,\n",
        "                \"Q4\" : None,\n",
        "                \"Q5\" : None,\n",
        "                \"Q6\" : None,\n",
        "                \"Q7\" : None}"
      ]
    },
    {
      "cell_type": "markdown",
      "source": [
        "##Reading the dataset\n",
        "#####An example is provided to read the dataset using [pandas](https://pandas.pydata.org/), while we reccommend using pandas you may use any python library to solve this challenge. "
      ],
      "metadata": {
        "id": "Z0pZ4Vlx3VZy"
      }
    },
    {
      "cell_type": "code",
      "source": [
        "import pandas as pd\n",
        "import numpy as np\n",
        "from scipy.stats import zscore\n",
        "\n",
        "url='https://drive.google.com/file/d/1PCJ7ltluquoXKi6MYTPMfwZQNI_-MIFP/view?usp=sharing'\n",
        "url='https://drive.google.com/uc?id=' + url.split('/')[-2]\n",
        "df = pd.read_csv(url)"
      ],
      "metadata": {
        "id": "7U3UNKSj3oxa"
      },
      "execution_count": 2,
      "outputs": []
    },
    {
      "cell_type": "code",
      "source": [
        "df[df['Model']=='Yaris'].head()"
      ],
      "metadata": {
        "id": "J10uW58Qv2B_",
        "colab": {
          "base_uri": "https://localhost:8080/",
          "height": 372
        },
        "outputId": "c2f3e9c4-1b58-4930-ed99-0034aaf4c6f5"
      },
      "execution_count": 3,
      "outputs": [
        {
          "output_type": "execute_result",
          "data": {
            "text/plain": [
              "         Make  Model  Year  Engine Displacement  Cylinders     Transmission  \\\n",
              "34093  Toyota  Yaris  2007                  1.5        4.0  Automatic 4-spd   \n",
              "34094  Toyota  Yaris  2007                  1.5        4.0     Manual 5-spd   \n",
              "34095  Toyota  Yaris  2008                  1.5        4.0  Automatic 4-spd   \n",
              "34096  Toyota  Yaris  2008                  1.5        4.0     Manual 5-spd   \n",
              "34097  Toyota  Yaris  2009                  1.5        4.0     Manual 5-spd   \n",
              "\n",
              "              Drivetrain    Vehicle Class Fuel Type  Fuel Barrels/Year  \\\n",
              "34093  Front-Wheel Drive  Subcompact Cars   Regular          10.632581   \n",
              "34094  Front-Wheel Drive  Subcompact Cars   Regular          10.300313   \n",
              "34095  Front-Wheel Drive  Subcompact Cars   Regular          10.632581   \n",
              "34096  Front-Wheel Drive  Subcompact Cars   Regular          10.300313   \n",
              "34097  Front-Wheel Drive  Subcompact Cars   Regular          10.300313   \n",
              "\n",
              "       City MPG  Highway MPG  Combined MPG  CO2 Emission Grams/Mile  \\\n",
              "34093        29           35            31               286.677419   \n",
              "34094        29           36            32               277.718750   \n",
              "34095        29           35            31               286.677419   \n",
              "34096        29           36            32               277.718750   \n",
              "34097        29           36            32               277.718750   \n",
              "\n",
              "       Fuel Cost/Year  \n",
              "34093            1050  \n",
              "34094            1050  \n",
              "34095            1050  \n",
              "34096            1050  \n",
              "34097            1050  "
            ],
            "text/html": [
              "\n",
              "  <div id=\"df-bbdfb52c-fe23-4b4d-a981-3b54f305498e\">\n",
              "    <div class=\"colab-df-container\">\n",
              "      <div>\n",
              "<style scoped>\n",
              "    .dataframe tbody tr th:only-of-type {\n",
              "        vertical-align: middle;\n",
              "    }\n",
              "\n",
              "    .dataframe tbody tr th {\n",
              "        vertical-align: top;\n",
              "    }\n",
              "\n",
              "    .dataframe thead th {\n",
              "        text-align: right;\n",
              "    }\n",
              "</style>\n",
              "<table border=\"1\" class=\"dataframe\">\n",
              "  <thead>\n",
              "    <tr style=\"text-align: right;\">\n",
              "      <th></th>\n",
              "      <th>Make</th>\n",
              "      <th>Model</th>\n",
              "      <th>Year</th>\n",
              "      <th>Engine Displacement</th>\n",
              "      <th>Cylinders</th>\n",
              "      <th>Transmission</th>\n",
              "      <th>Drivetrain</th>\n",
              "      <th>Vehicle Class</th>\n",
              "      <th>Fuel Type</th>\n",
              "      <th>Fuel Barrels/Year</th>\n",
              "      <th>City MPG</th>\n",
              "      <th>Highway MPG</th>\n",
              "      <th>Combined MPG</th>\n",
              "      <th>CO2 Emission Grams/Mile</th>\n",
              "      <th>Fuel Cost/Year</th>\n",
              "    </tr>\n",
              "  </thead>\n",
              "  <tbody>\n",
              "    <tr>\n",
              "      <th>34093</th>\n",
              "      <td>Toyota</td>\n",
              "      <td>Yaris</td>\n",
              "      <td>2007</td>\n",
              "      <td>1.5</td>\n",
              "      <td>4.0</td>\n",
              "      <td>Automatic 4-spd</td>\n",
              "      <td>Front-Wheel Drive</td>\n",
              "      <td>Subcompact Cars</td>\n",
              "      <td>Regular</td>\n",
              "      <td>10.632581</td>\n",
              "      <td>29</td>\n",
              "      <td>35</td>\n",
              "      <td>31</td>\n",
              "      <td>286.677419</td>\n",
              "      <td>1050</td>\n",
              "    </tr>\n",
              "    <tr>\n",
              "      <th>34094</th>\n",
              "      <td>Toyota</td>\n",
              "      <td>Yaris</td>\n",
              "      <td>2007</td>\n",
              "      <td>1.5</td>\n",
              "      <td>4.0</td>\n",
              "      <td>Manual 5-spd</td>\n",
              "      <td>Front-Wheel Drive</td>\n",
              "      <td>Subcompact Cars</td>\n",
              "      <td>Regular</td>\n",
              "      <td>10.300313</td>\n",
              "      <td>29</td>\n",
              "      <td>36</td>\n",
              "      <td>32</td>\n",
              "      <td>277.718750</td>\n",
              "      <td>1050</td>\n",
              "    </tr>\n",
              "    <tr>\n",
              "      <th>34095</th>\n",
              "      <td>Toyota</td>\n",
              "      <td>Yaris</td>\n",
              "      <td>2008</td>\n",
              "      <td>1.5</td>\n",
              "      <td>4.0</td>\n",
              "      <td>Automatic 4-spd</td>\n",
              "      <td>Front-Wheel Drive</td>\n",
              "      <td>Subcompact Cars</td>\n",
              "      <td>Regular</td>\n",
              "      <td>10.632581</td>\n",
              "      <td>29</td>\n",
              "      <td>35</td>\n",
              "      <td>31</td>\n",
              "      <td>286.677419</td>\n",
              "      <td>1050</td>\n",
              "    </tr>\n",
              "    <tr>\n",
              "      <th>34096</th>\n",
              "      <td>Toyota</td>\n",
              "      <td>Yaris</td>\n",
              "      <td>2008</td>\n",
              "      <td>1.5</td>\n",
              "      <td>4.0</td>\n",
              "      <td>Manual 5-spd</td>\n",
              "      <td>Front-Wheel Drive</td>\n",
              "      <td>Subcompact Cars</td>\n",
              "      <td>Regular</td>\n",
              "      <td>10.300313</td>\n",
              "      <td>29</td>\n",
              "      <td>36</td>\n",
              "      <td>32</td>\n",
              "      <td>277.718750</td>\n",
              "      <td>1050</td>\n",
              "    </tr>\n",
              "    <tr>\n",
              "      <th>34097</th>\n",
              "      <td>Toyota</td>\n",
              "      <td>Yaris</td>\n",
              "      <td>2009</td>\n",
              "      <td>1.5</td>\n",
              "      <td>4.0</td>\n",
              "      <td>Manual 5-spd</td>\n",
              "      <td>Front-Wheel Drive</td>\n",
              "      <td>Subcompact Cars</td>\n",
              "      <td>Regular</td>\n",
              "      <td>10.300313</td>\n",
              "      <td>29</td>\n",
              "      <td>36</td>\n",
              "      <td>32</td>\n",
              "      <td>277.718750</td>\n",
              "      <td>1050</td>\n",
              "    </tr>\n",
              "  </tbody>\n",
              "</table>\n",
              "</div>\n",
              "      <button class=\"colab-df-convert\" onclick=\"convertToInteractive('df-bbdfb52c-fe23-4b4d-a981-3b54f305498e')\"\n",
              "              title=\"Convert this dataframe to an interactive table.\"\n",
              "              style=\"display:none;\">\n",
              "        \n",
              "  <svg xmlns=\"http://www.w3.org/2000/svg\" height=\"24px\"viewBox=\"0 0 24 24\"\n",
              "       width=\"24px\">\n",
              "    <path d=\"M0 0h24v24H0V0z\" fill=\"none\"/>\n",
              "    <path d=\"M18.56 5.44l.94 2.06.94-2.06 2.06-.94-2.06-.94-.94-2.06-.94 2.06-2.06.94zm-11 1L8.5 8.5l.94-2.06 2.06-.94-2.06-.94L8.5 2.5l-.94 2.06-2.06.94zm10 10l.94 2.06.94-2.06 2.06-.94-2.06-.94-.94-2.06-.94 2.06-2.06.94z\"/><path d=\"M17.41 7.96l-1.37-1.37c-.4-.4-.92-.59-1.43-.59-.52 0-1.04.2-1.43.59L10.3 9.45l-7.72 7.72c-.78.78-.78 2.05 0 2.83L4 21.41c.39.39.9.59 1.41.59.51 0 1.02-.2 1.41-.59l7.78-7.78 2.81-2.81c.8-.78.8-2.07 0-2.86zM5.41 20L4 18.59l7.72-7.72 1.47 1.35L5.41 20z\"/>\n",
              "  </svg>\n",
              "      </button>\n",
              "      \n",
              "  <style>\n",
              "    .colab-df-container {\n",
              "      display:flex;\n",
              "      flex-wrap:wrap;\n",
              "      gap: 12px;\n",
              "    }\n",
              "\n",
              "    .colab-df-convert {\n",
              "      background-color: #E8F0FE;\n",
              "      border: none;\n",
              "      border-radius: 50%;\n",
              "      cursor: pointer;\n",
              "      display: none;\n",
              "      fill: #1967D2;\n",
              "      height: 32px;\n",
              "      padding: 0 0 0 0;\n",
              "      width: 32px;\n",
              "    }\n",
              "\n",
              "    .colab-df-convert:hover {\n",
              "      background-color: #E2EBFA;\n",
              "      box-shadow: 0px 1px 2px rgba(60, 64, 67, 0.3), 0px 1px 3px 1px rgba(60, 64, 67, 0.15);\n",
              "      fill: #174EA6;\n",
              "    }\n",
              "\n",
              "    [theme=dark] .colab-df-convert {\n",
              "      background-color: #3B4455;\n",
              "      fill: #D2E3FC;\n",
              "    }\n",
              "\n",
              "    [theme=dark] .colab-df-convert:hover {\n",
              "      background-color: #434B5C;\n",
              "      box-shadow: 0px 1px 3px 1px rgba(0, 0, 0, 0.15);\n",
              "      filter: drop-shadow(0px 1px 2px rgba(0, 0, 0, 0.3));\n",
              "      fill: #FFFFFF;\n",
              "    }\n",
              "  </style>\n",
              "\n",
              "      <script>\n",
              "        const buttonEl =\n",
              "          document.querySelector('#df-bbdfb52c-fe23-4b4d-a981-3b54f305498e button.colab-df-convert');\n",
              "        buttonEl.style.display =\n",
              "          google.colab.kernel.accessAllowed ? 'block' : 'none';\n",
              "\n",
              "        async function convertToInteractive(key) {\n",
              "          const element = document.querySelector('#df-bbdfb52c-fe23-4b4d-a981-3b54f305498e');\n",
              "          const dataTable =\n",
              "            await google.colab.kernel.invokeFunction('convertToInteractive',\n",
              "                                                     [key], {});\n",
              "          if (!dataTable) return;\n",
              "\n",
              "          const docLinkHtml = 'Like what you see? Visit the ' +\n",
              "            '<a target=\"_blank\" href=https://colab.research.google.com/notebooks/data_table.ipynb>data table notebook</a>'\n",
              "            + ' to learn more about interactive tables.';\n",
              "          element.innerHTML = '';\n",
              "          dataTable['output_type'] = 'display_data';\n",
              "          await google.colab.output.renderOutput(dataTable, element);\n",
              "          const docLink = document.createElement('div');\n",
              "          docLink.innerHTML = docLinkHtml;\n",
              "          element.appendChild(docLink);\n",
              "        }\n",
              "      </script>\n",
              "    </div>\n",
              "  </div>\n",
              "  "
            ]
          },
          "metadata": {},
          "execution_count": 3
        }
      ]
    },
    {
      "cell_type": "code",
      "source": [
        "#Verfying data is non-null and validating data does not require cleaning\n",
        "df.info()"
      ],
      "metadata": {
        "id": "LutcGEx8v4GY",
        "colab": {
          "base_uri": "https://localhost:8080/"
        },
        "outputId": "52096e06-4f6a-44f3-daef-a699608cf2b7"
      },
      "execution_count": 4,
      "outputs": [
        {
          "output_type": "stream",
          "name": "stdout",
          "text": [
            "<class 'pandas.core.frame.DataFrame'>\n",
            "RangeIndex: 35952 entries, 0 to 35951\n",
            "Data columns (total 15 columns):\n",
            " #   Column                   Non-Null Count  Dtype  \n",
            "---  ------                   --------------  -----  \n",
            " 0   Make                     35952 non-null  object \n",
            " 1   Model                    35952 non-null  object \n",
            " 2   Year                     35952 non-null  int64  \n",
            " 3   Engine Displacement      35952 non-null  float64\n",
            " 4   Cylinders                35952 non-null  float64\n",
            " 5   Transmission             35952 non-null  object \n",
            " 6   Drivetrain               35952 non-null  object \n",
            " 7   Vehicle Class            35952 non-null  object \n",
            " 8   Fuel Type                35952 non-null  object \n",
            " 9   Fuel Barrels/Year        35952 non-null  float64\n",
            " 10  City MPG                 35952 non-null  int64  \n",
            " 11  Highway MPG              35952 non-null  int64  \n",
            " 12  Combined MPG             35952 non-null  int64  \n",
            " 13  CO2 Emission Grams/Mile  35952 non-null  float64\n",
            " 14  Fuel Cost/Year           35952 non-null  int64  \n",
            "dtypes: float64(4), int64(5), object(6)\n",
            "memory usage: 4.1+ MB\n"
          ]
        }
      ]
    },
    {
      "cell_type": "markdown",
      "source": [
        "##Q1. What is the average CO2 emmission per gram/mile of all Volkswagen cars?\n",
        "\n",
        "##### Format: A floating number\n",
        "##### Example answer:\n",
        " `11.547`"
      ],
      "metadata": {
        "id": "kLRp8K_wnEJG"
      }
    },
    {
      "cell_type": "code",
      "source": [
        "########## Q1\n",
        "#Your code here\n",
        "\n",
        "average_co2_volkswagen = df[df['Make'] == 'Volkswagen']['CO2 Emission Grams/Mile'].mean()\n",
        "\n",
        "answer_dict[\"Q1\"] =  average_co2_volkswagen"
      ],
      "metadata": {
        "id": "jBGXf7RRnEoV"
      },
      "execution_count": 5,
      "outputs": []
    },
    {
      "cell_type": "code",
      "source": [
        "average_co2_volkswagen  #392.7417210857633"
      ],
      "metadata": {
        "colab": {
          "base_uri": "https://localhost:8080/"
        },
        "id": "L-GTUA44I8--",
        "outputId": "a8f47246-7cc8-4bb1-929a-6a40edfc6641"
      },
      "execution_count": 6,
      "outputs": [
        {
          "output_type": "execute_result",
          "data": {
            "text/plain": [
              "392.7417210857633"
            ]
          },
          "metadata": {},
          "execution_count": 6
        }
      ]
    },
    {
      "cell_type": "markdown",
      "source": [
        "##Q2. Calculate the top 5 brands(Make) with the most unique models, order your answer in descending order with respect to the number of unique models.\n",
        "##### **NOTE:** Consider only the name of the models and their brand, that is use only the Make and Model columns\n",
        "##### Format: A 5X2 list with each row being the name of the brand followed by the unique number of models, in descending order.\n",
        "#####Hint: You can use the pandas [df.values.tolist()](https://pandas.pydata.org/docs/reference/api/pandas.Series.tolist.html) function to format your answer.\n",
        "\n",
        "##### Example answer: \n",
        "`[[\"Volkswagen\", 1000], [\"Toyota\", 900], [\"Honda\", 800], [\"Subaru\", 700], [\"Ford\", 600]]`"
      ],
      "metadata": {
        "id": "SPNq7yn74kjd"
      }
    },
    {
      "cell_type": "code",
      "source": [
        "########## Q2\n",
        "#Your code here\n",
        "# Verify that ('Make' and 'Model') determine the uniqueness\n",
        "\n",
        "make_brands = df[['Make', 'Model']]\n",
        "make_brands_uq = df.groupby('Make')['Model'].apply(lambda x: len(list(np.unique(x)))).sort_values(ascending = False)\n",
        "final_answer = make_brands_uq.reset_index(inplace = False)\n",
        "result_q2 = final_answer.values.tolist()[:5]\n",
        "\n",
        "#print(result_q2)\n",
        "answer_dict[\"Q2\"] = result_q2\n",
        " \n",
        "                    \n",
        "#Example answer:\n",
        "#answer_dict[\"Q2\"] =  [[\"Volkswagen\", 1000], [\"Toyota\", 900], [\"Honda\", 800], [\"Subaru\", 700], [\"Ford\", 600]] "
      ],
      "metadata": {
        "id": "StipyFue4Dx-"
      },
      "execution_count": 7,
      "outputs": []
    },
    {
      "cell_type": "code",
      "source": [
        "#[['Mercedes-Benz', 333],\n",
        "# ['BMW', 284],\n",
        "# ['Chevrolet', 253],\n",
        "# ['Ford', 185],\n",
        "# ['GMC', 163]]"
      ],
      "metadata": {
        "id": "ZPivfAY4zZzf"
      },
      "execution_count": 8,
      "outputs": []
    },
    {
      "cell_type": "markdown",
      "source": [
        "##Q3. What are all the different types of fuels in the dataset sorted alphabetically?\n",
        "##### Format: A list of strings sorted alphabetically.\n",
        "##### Example Answer: \n",
        "`['Regular',\n",
        " 'Premium']`"
      ],
      "metadata": {
        "id": "EGxv7N15AiLu"
      }
    },
    {
      "cell_type": "code",
      "source": [
        "########## Q3\n",
        "#Your code here\n",
        "\n",
        "unique_fuel_types = np.unique(df['Fuel Type'].values)\n",
        "list_fuel_types   = np.sort(unique_fuel_types).tolist()\n",
        "\n",
        "answer_dict[\"Q3\"] =  list_fuel_types\n",
        "\n",
        "#Pass to LIST\n",
        "\n",
        "#Example answer:\n",
        "#answer_dict[\"Q3\"] =  ['Regular', 'Premium'] "
      ],
      "metadata": {
        "id": "otyDsWpsAjde"
      },
      "execution_count": 9,
      "outputs": []
    },
    {
      "cell_type": "code",
      "source": [
        "list_fuel_types\n",
        "\n",
        "#\n",
        "#['CNG',\n",
        " #'Diesel',\n",
        "# 'Gasoline or E85',\n",
        "# 'Gasoline or natural gas',\n",
        "# 'Gasoline or propane',\n",
        "# 'Midgrade',\n",
        "# 'Premium',\n",
        "# 'Premium Gas or Electricity',\n",
        "# 'Premium and Electricity',\n",
        "# 'Premium or E85',\n",
        "# 'Regular',\n",
        "# 'Regular Gas and Electricity',\n",
        "# 'Regular Gas or Electricity']\n",
        "# */"
      ],
      "metadata": {
        "colab": {
          "base_uri": "https://localhost:8080/"
        },
        "id": "TErcMZSW3ncP",
        "outputId": "581c9f6c-6e3b-45a1-87cf-53b969edc5ac"
      },
      "execution_count": 10,
      "outputs": [
        {
          "output_type": "execute_result",
          "data": {
            "text/plain": [
              "['CNG',\n",
              " 'Diesel',\n",
              " 'Gasoline or E85',\n",
              " 'Gasoline or natural gas',\n",
              " 'Gasoline or propane',\n",
              " 'Midgrade',\n",
              " 'Premium',\n",
              " 'Premium Gas or Electricity',\n",
              " 'Premium and Electricity',\n",
              " 'Premium or E85',\n",
              " 'Regular',\n",
              " 'Regular Gas and Electricity',\n",
              " 'Regular Gas or Electricity']"
            ]
          },
          "metadata": {},
          "execution_count": 10
        }
      ]
    },
    {
      "cell_type": "markdown",
      "source": [
        "##Q4. Show the 9 Toyota cars with the most extreme Fuel Barrels/Year in abosolute terms within all Toyota cars. Show the car Model, Year and their Fuel Barrels/Year in standard deviation units([Z-score](https://fredclavel.org/2019/03/18/basics-standardization-and-the-z-score/)) **sorted** in descending order by their Fuel Barrels/Year in absolute terms first and then by year in descending order **BUT** without modifying the negative values (see example).\n",
        "\n",
        "##### Format: A 9X3 list with each row containing the Model, Year and Fuel Barrels/Year in standard deviations units\n",
        "\n",
        "##### Example answer: \n",
        "```\n",
        "[['DJ Po Vehicle 2WD', 2004, -6.407431084026927],\n",
        " ['FJ8c Post Office', 2003, -6.407431084026927],\n",
        " ['Post Office DJ5 2WD', 2005, -6.391684618442447],\n",
        " ['Sierra 2500 Hd 2WD', 2002, -6.391684618442447],\n",
        " ['Camry CNG', 2012, 2.677633075759575],\n",
        " ['Sierra 1500 4WD', 2005, 2.677633075759575],\n",
        " ['Sierra 1500 4WD', 2001, 2.677633075759575],\n",
        " ['V15 Suburban 4WD', 1988, 2.677633075759575],\n",
        " ['V15 Suburban 4WD', 1987, 2.677633075759575]]\n",
        "```\n",
        "#####Note that while the list is sorted by the Fuel Barrels/Year in absolute terms and in standard deviation units, the values are not modified. If the values are the same the rows are sorted by the year.\n"
      ],
      "metadata": {
        "id": "ijpZht03tV5W"
      }
    },
    {
      "cell_type": "code",
      "source": [
        "########## Q4\n",
        "#Your code here\n",
        "\n",
        "toyota_extreme = df.loc[(df['Make'] == 'Toyota'), [\"Make\", \"Model\", \"Year\", \"Fuel Barrels/Year\"]]\n",
        "toyota_extreme['fuel_zscore'] = zscore(toyota_extreme['Fuel Barrels/Year'])\n",
        "toyota_extreme['abs_fuel_zscore'] = abs(toyota_extreme['fuel_zscore'])\n",
        "\n",
        "toyota_extreme.drop(columns = ['Make', 'Fuel Barrels/Year'], inplace = True)\n",
        "#toyota_extreme.set_index(\"Model\")\n",
        "\n",
        "toyota_extreme.sort_values(['abs_fuel_zscore', 'Year'], ascending = [False, False], inplace = True)\n",
        "\n",
        "toyota_extreme.drop(columns = ['abs_fuel_zscore'], inplace = True)\n",
        "answerq4 = toyota_extreme[:9].values.tolist()\n",
        "\n",
        "\n",
        "answer_dict[\"Q4\"] = answerq4\n",
        "\n",
        "#Example answer:\n",
        "#answer_dict[\"Q4\"] =  ['Regular', 'Premium']"
      ],
      "metadata": {
        "id": "de_GgmrFVcvO"
      },
      "execution_count": 11,
      "outputs": []
    },
    {
      "cell_type": "code",
      "source": [
        "answerq4\n",
        "#answerq4 = [['Cab/Chassis 2WD', 1993, 4.113376218494312],\n",
        "# ['Cab/Chassis 2WD', 1992, 4.113376218494312],\n",
        "# ['Cab/Chassis 2WD', 1991, 4.113376218494312],\n",
        "# ['Cab/Chassis 2WD', 1990, 4.113376218494312],\n",
        "# ['Cab/Chassis 2WD', 1989, 4.113376218494312],\n",
        "# ['Camry CNG', 1999, -3.933613148435805],\n",
        "# ['Camry CNG', 2001, -3.932713521763228],\n",
        "# ['Camry CNG', 2000, -3.932713521763228],\n",
        "# ['Cab/Chassis 2WD', 1993, 3.3800324772464214]]"
      ],
      "metadata": {
        "id": "cxyGH-nZfAaI",
        "colab": {
          "base_uri": "https://localhost:8080/"
        },
        "outputId": "4aa9cb06-969f-4f01-92e9-2c3d5637df56"
      },
      "execution_count": 12,
      "outputs": [
        {
          "output_type": "execute_result",
          "data": {
            "text/plain": [
              "[['Cab/Chassis 2WD', 1993, 4.113376218494312],\n",
              " ['Cab/Chassis 2WD', 1992, 4.113376218494312],\n",
              " ['Cab/Chassis 2WD', 1991, 4.113376218494312],\n",
              " ['Cab/Chassis 2WD', 1990, 4.113376218494312],\n",
              " ['Cab/Chassis 2WD', 1989, 4.113376218494312],\n",
              " ['Camry CNG', 1999, -3.933613148435805],\n",
              " ['Camry CNG', 2001, -3.932713521763228],\n",
              " ['Camry CNG', 2000, -3.932713521763228],\n",
              " ['Cab/Chassis 2WD', 1993, 3.3800324772464214]]"
            ]
          },
          "metadata": {},
          "execution_count": 12
        }
      ]
    },
    {
      "cell_type": "markdown",
      "source": [
        "##Q5. Calculate the changes in Combined MPG with their previous model of all Golf cars with Manual 5-spd transmission and Regular Fuel Type. Show the Year, the Combined MPG and the calculated difference of MPG in a list sorted by Year in ascending order.\n",
        "\n",
        "##### Format: A 19X3 list, with the Year and Combined MPG being of type integer **and only the calculated difference is of type float**\n",
        "##### **Note: The value for the first model should be 0.** It does not matter that there are gaps in the years, calculate with respect the previous model.\n",
        "\n",
        "#####Example answer:\n",
        "\n",
        "\n",
        "\n",
        "```\n",
        "[[1986, 25, 0.0],\n",
        " [1987, 25, 0.0],\n",
        " [1988, 25, 0.0],\n",
        " [1989, 25, 0.0],\n",
        " [1990, 23, -2.0],\n",
        " [1991, 23, 0.0],\n",
        " [1992, 24, 1.0],\n",
        " [1993, 25, 1.0],\n",
        " [1994, 25, 0.0],\n",
        " [1995, 25, 0.0],\n",
        " [1996, 25, 0.0],\n",
        " [1997, 25, 0.0],\n",
        " [1998, 24, -1.0],\n",
        " [1999, 25, 1.0],\n",
        " [2000, 24, -1.0],\n",
        " [2001, 24, 0.0],\n",
        " [2002, 24, 0.0],\n",
        " [2004, 24, 0.0],\n",
        " [2006, 24, 0.0]]\n",
        "```\n",
        "\n",
        "\n",
        "\n"
      ],
      "metadata": {
        "id": "7eCpEljJnXzt"
      }
    },
    {
      "cell_type": "code",
      "source": [
        "#np.unique(df.loc[:, ['Transmission']])\n",
        "#df.loc[(df['Make'] == 'Volkswagen') & (df['Model'].str.contains('Golf')), ['Model']]\n",
        "#np.unique(df.loc[df['Model'].str.contains('Golf'), ['Model']]['Model'])\n",
        "#np.unique(df.loc[df['Transmission'].str.contains('Manual 5'), ['Transmission']]['Transmission'])\n",
        "#np.unique(df.loc[df['Fuel Type'].str.contains('Regular'), ['Fuel Type']]['Fuel Type'])\n",
        "#np.unique(df.loc[df['Fuel Type'].str.contains('Regular'), ['Fuel Type']])"
      ],
      "metadata": {
        "colab": {
          "base_uri": "https://localhost:8080/"
        },
        "id": "apiy9h-isFWC",
        "outputId": "3b79d668-4da2-424a-df37-4b20e12c958b"
      },
      "execution_count": 33,
      "outputs": [
        {
          "output_type": "execute_result",
          "data": {
            "text/plain": [
              "array(['Auto (AV)', 'Auto (AV-S6)', 'Auto (AV-S8)', 'Auto(A1)',\n",
              "       'Auto(AM-S6)', 'Auto(AM-S7)', 'Auto(AM-S8)', 'Auto(AM-S9)',\n",
              "       'Auto(AM5)', 'Auto(AM6)', 'Auto(AM7)', 'Auto(AM8)', 'Auto(AV-S6)',\n",
              "       'Auto(AV-S7)', 'Auto(AV-S8)', 'Auto(L3)', 'Auto(L4)',\n",
              "       'Automatic (A1)', 'Automatic (A6)', 'Automatic (AM5)',\n",
              "       'Automatic (AM6)', 'Automatic (AV)', 'Automatic (AV-S6)',\n",
              "       'Automatic (S4)', 'Automatic (S5)', 'Automatic (S6)',\n",
              "       'Automatic (S7)', 'Automatic (S8)', 'Automatic (S9)',\n",
              "       'Automatic (variable gear ratios)', 'Automatic 3-spd',\n",
              "       'Automatic 4-spd', 'Automatic 5-spd', 'Automatic 6-spd',\n",
              "       'Automatic 6spd', 'Automatic 7-spd', 'Automatic 8-spd',\n",
              "       'Automatic 9-spd', 'Manual 3-spd', 'Manual 4-spd', 'Manual 5 spd',\n",
              "       'Manual 5-spd', 'Manual 6-spd', 'Manual 7-spd', 'Manual(M7)'],\n",
              "      dtype=object)"
            ]
          },
          "metadata": {},
          "execution_count": 33
        }
      ]
    },
    {
      "cell_type": "code",
      "source": [
        "########## Q5\n",
        "#Your code here\n",
        "\n",
        "#np.unique(df.loc[df['Model'].str.contains('Golf'), ['Model']]['Model'])\n",
        "#np.unique(df.loc[df['Transmission'].str.contains('Manual 5'), ['Transmission']]['Transmission'])\n",
        "# Several Golf cars           : ['GTI/Golf GT', 'Golf', 'Golf III','Golf III / GTI', 'Golf R', 'Golf SportWagen', 'Golf/GTI']\n",
        "# Several Transmissions 5-spd : ['Manual 5 spd', 'Manual 5-spd']\n",
        "# Several posibilities: ['Regular', 'Regular Gas and Electricity', 'Regular Gas or Electricity']\n",
        "\n",
        "#golf_cars = df.loc[(df['Model'].str.contains('Golf')) & (df['Transmission'].str.contains('Manual 5')) & (df['Fuel Type'].str.contains('Regular')),['Model', 'Year', 'Combined MPG']]\n",
        "golf_cars = df.loc[(df['Model'] == 'Golf') & (df['Transmission'].str.contains('Manual 5')) & (df['Fuel Type'].str.contains('Regular')),['Year', 'Combined MPG']]\n",
        "\n",
        "golf_cars['diff_mpg'] = golf_cars['Combined MPG'].rolling(2).apply(lambda x: x.iloc[1]-x.iloc[0])\n",
        "\n",
        "golf_cars[np.isnan(golf_cars)] = 0\n",
        "array_from_golf_cars = golf_cars.to_records(index = False)\n",
        "\n",
        "array_from_golf_cars.dtype.fields\n",
        "\n",
        "list_tuples_array_golf_cars = array_from_golf_cars.tolist()\n",
        "\n",
        "answerq5 = [list(elem) for elem in list_tuples_array_golf_cars]\n",
        "\n",
        "answer_dict[\"Q5\"] = answerq5"
      ],
      "metadata": {
        "id": "lMlKfEWUH3S9"
      },
      "execution_count": 14,
      "outputs": []
    },
    {
      "cell_type": "code",
      "source": [
        "answerq5"
      ],
      "metadata": {
        "colab": {
          "base_uri": "https://localhost:8080/"
        },
        "id": "7zESY1i7Cusg",
        "outputId": "a521e32b-ca82-4f80-baef-15282633fd4e"
      },
      "execution_count": 15,
      "outputs": [
        {
          "output_type": "execute_result",
          "data": {
            "text/plain": [
              "[[1986, 26, 0.0],\n",
              " [1987, 26, 0.0],\n",
              " [1988, 25, -1.0],\n",
              " [1989, 25, 0.0],\n",
              " [1999, 24, -1.0],\n",
              " [2000, 24, 0.0],\n",
              " [2001, 24, 0.0],\n",
              " [2002, 24, 0.0],\n",
              " [2003, 24, 0.0],\n",
              " [2004, 24, 0.0],\n",
              " [2005, 24, 0.0],\n",
              " [2006, 24, 0.0],\n",
              " [2010, 25, 1.0],\n",
              " [2011, 26, 1.0],\n",
              " [2012, 26, 0.0],\n",
              " [2013, 26, 0.0],\n",
              " [2015, 30, 4.0],\n",
              " [2016, 30, 0.0],\n",
              " [2017, 29, -1.0]]"
            ]
          },
          "metadata": {},
          "execution_count": 15
        }
      ]
    },
    {
      "cell_type": "code",
      "source": [
        "answerq5\n",
        "#[[1986, 26, 0.0],\n",
        "# [1987, 26, 0.0],\n",
        "# [1988, 25, -1.0],\n",
        "# [1989, 25, 0.0],\n",
        "# [1999, 24, -1.0],\n",
        "# [2000, 24, 0.0],\n",
        "# [2001, 24, 0.0],\n",
        "# [2002, 24, 0.0],\n",
        "# [2003, 24, 0.0],\n",
        "# [2004, 24, 0.0],\n",
        "# [2005, 24, 0.0],\n",
        "# [2006, 24, 0.0],\n",
        "# [2010, 25, 1.0],\n",
        "# [2011, 26, 1.0],\n",
        "# [2012, 26, 0.0],\n",
        "# [2013, 26, 0.0],\n",
        "# [2015, 30, 4.0],\n",
        "# [2016, 30, 0.0],\n",
        "# [2017, 29, -1.0]]"
      ],
      "metadata": {
        "colab": {
          "base_uri": "https://localhost:8080/"
        },
        "id": "Hc03Ie47G3lN",
        "outputId": "42ba77d6-a4c4-400b-dd0a-a5207fcfb632"
      },
      "execution_count": 16,
      "outputs": [
        {
          "output_type": "execute_result",
          "data": {
            "text/plain": [
              "[[1986, 26, 0.0],\n",
              " [1987, 26, 0.0],\n",
              " [1988, 25, -1.0],\n",
              " [1989, 25, 0.0],\n",
              " [1999, 24, -1.0],\n",
              " [2000, 24, 0.0],\n",
              " [2001, 24, 0.0],\n",
              " [2002, 24, 0.0],\n",
              " [2003, 24, 0.0],\n",
              " [2004, 24, 0.0],\n",
              " [2005, 24, 0.0],\n",
              " [2006, 24, 0.0],\n",
              " [2010, 25, 1.0],\n",
              " [2011, 26, 1.0],\n",
              " [2012, 26, 0.0],\n",
              " [2013, 26, 0.0],\n",
              " [2015, 30, 4.0],\n",
              " [2016, 30, 0.0],\n",
              " [2017, 29, -1.0]]"
            ]
          },
          "metadata": {},
          "execution_count": 16
        }
      ]
    },
    {
      "cell_type": "code",
      "source": [
        "answer_dict"
      ],
      "metadata": {
        "colab": {
          "base_uri": "https://localhost:8080/"
        },
        "id": "IxYUAUaeIwmA",
        "outputId": "34aba165-54de-43e4-84c6-6a3b42ae1080"
      },
      "execution_count": 17,
      "outputs": [
        {
          "output_type": "execute_result",
          "data": {
            "text/plain": [
              "{'Q1': 392.7417210857633,\n",
              " 'Q2': [['Mercedes-Benz', 333],\n",
              "  ['BMW', 284],\n",
              "  ['Chevrolet', 253],\n",
              "  ['Ford', 185],\n",
              "  ['GMC', 163]],\n",
              " 'Q3': ['CNG',\n",
              "  'Diesel',\n",
              "  'Gasoline or E85',\n",
              "  'Gasoline or natural gas',\n",
              "  'Gasoline or propane',\n",
              "  'Midgrade',\n",
              "  'Premium',\n",
              "  'Premium Gas or Electricity',\n",
              "  'Premium and Electricity',\n",
              "  'Premium or E85',\n",
              "  'Regular',\n",
              "  'Regular Gas and Electricity',\n",
              "  'Regular Gas or Electricity'],\n",
              " 'Q4': [['Cab/Chassis 2WD', 1993, 4.113376218494312],\n",
              "  ['Cab/Chassis 2WD', 1992, 4.113376218494312],\n",
              "  ['Cab/Chassis 2WD', 1991, 4.113376218494312],\n",
              "  ['Cab/Chassis 2WD', 1990, 4.113376218494312],\n",
              "  ['Cab/Chassis 2WD', 1989, 4.113376218494312],\n",
              "  ['Camry CNG', 1999, -3.933613148435805],\n",
              "  ['Camry CNG', 2001, -3.932713521763228],\n",
              "  ['Camry CNG', 2000, -3.932713521763228],\n",
              "  ['Cab/Chassis 2WD', 1993, 3.3800324772464214]],\n",
              " 'Q5': [[1986, 26, 0.0],\n",
              "  [1987, 26, 0.0],\n",
              "  [1988, 25, -1.0],\n",
              "  [1989, 25, 0.0],\n",
              "  [1999, 24, -1.0],\n",
              "  [2000, 24, 0.0],\n",
              "  [2001, 24, 0.0],\n",
              "  [2002, 24, 0.0],\n",
              "  [2003, 24, 0.0],\n",
              "  [2004, 24, 0.0],\n",
              "  [2005, 24, 0.0],\n",
              "  [2006, 24, 0.0],\n",
              "  [2010, 25, 1.0],\n",
              "  [2011, 26, 1.0],\n",
              "  [2012, 26, 0.0],\n",
              "  [2013, 26, 0.0],\n",
              "  [2015, 30, 4.0],\n",
              "  [2016, 30, 0.0],\n",
              "  [2017, 29, -1.0]],\n",
              " 'Q6': None,\n",
              " 'Q7': None}"
            ]
          },
          "metadata": {},
          "execution_count": 17
        }
      ]
    },
    {
      "cell_type": "markdown",
      "source": [
        "##Q6. What are the top 5 lowest CO2 Emission Grams/Mile emmisions of cars for each of the following brands: Toyota, Ford, Volkswagen, Nissan, Honda\n",
        "\n",
        "#####Format: A 5X6 list with the first element of each row being the Make of the cars and the following five values being floats sorted in ascending order. The Makes should appear in order listed in the question starting with Ford and ending with Volkswagen (see example).\n",
        "\n",
        "#####Example answer:\n",
        "\n",
        "```\n",
        "[['Toyota', 100.0, 140.0, 140.0, 150.0, 150.0],\n",
        " ['Ford',\n",
        "  100.025641025641,\n",
        "  200.677633075759575,\n",
        "  200.677633075759575,\n",
        "  200.677633075759575,\n",
        "  200.677633075759575],\n",
        " ['Volkswagen', 139.0, 154.0, 166.5, 166.5, 166.5],\n",
        " ['Nissan', 122.0, 122.0, 122.0, 122.0, 160.0],\n",
        " ['Honda', 100.0, 100.0, 100.0, 100.0, 123.91684618442447]]\n",
        "```\n",
        "\n",
        "\n",
        "\n",
        "\n"
      ],
      "metadata": {
        "id": "EnHdqUs-nagE"
      }
    },
    {
      "cell_type": "code",
      "source": [
        "########## Q6\n",
        "#Your code here\n",
        "car_brands = ['Toyota', 'Ford', 'Volkswagen', 'Nissan', 'Honda']\n",
        "result     = []\n",
        "\n",
        "for car in car_brands:\n",
        "  car_top       = df.loc[(df['Make'] == car), ['CO2 Emission Grams/Mile']].sort_values(['CO2 Emission Grams/Mile'], ascending = True).head(5)\n",
        "  car_top_list  = car_top['CO2 Emission Grams/Mile'].tolist()\n",
        "  car_row       = [car]\n",
        "\n",
        "  car_row.extend(car_top_list)\n",
        "  result.append(car_row)\n",
        "\n",
        "answer_dict[\"Q6\"] = result"
      ],
      "metadata": {
        "id": "8KKg3bT6na41"
      },
      "execution_count": 18,
      "outputs": []
    },
    {
      "cell_type": "code",
      "source": [
        "result\n",
        "#[['Toyota', 133.0, 133.0, 133.0, 133.0, 158.0], \n",
        "# ['Ford', 112.0, 129.0, 129.0, 129.0, 129.0], \n",
        "# ['Volkswagen', 200.0, 200.0, 200.0, 200.0, 261.025641025641], \n",
        "# ['Nissan', 249.0, 254.0, 254.5, 254.5, 254.5], \n",
        "# ['Honda', 130.0, 167.67924528301887, 167.67924528301887, 167.67924528301887, 167.67924528301887]]"
      ],
      "metadata": {
        "id": "kYFb9dIienLQ",
        "colab": {
          "base_uri": "https://localhost:8080/"
        },
        "outputId": "83a21829-e6e4-4e89-f9ff-580c9e5a9886"
      },
      "execution_count": 19,
      "outputs": [
        {
          "output_type": "execute_result",
          "data": {
            "text/plain": [
              "[['Toyota', 133.0, 133.0, 133.0, 133.0, 158.0],\n",
              " ['Ford', 112.0, 129.0, 129.0, 129.0, 129.0],\n",
              " ['Volkswagen', 200.0, 200.0, 200.0, 200.0, 261.025641025641],\n",
              " ['Nissan', 249.0, 254.0, 254.5, 254.5, 254.5],\n",
              " ['Honda',\n",
              "  130.0,\n",
              "  167.67924528301887,\n",
              "  167.67924528301887,\n",
              "  167.67924528301887,\n",
              "  167.67924528301887]]"
            ]
          },
          "metadata": {},
          "execution_count": 19
        }
      ]
    },
    {
      "cell_type": "markdown",
      "source": [
        "##Q7. Form 7 groups of 5 years to calculated the median Combined MPG of each group. The first group is from 1984 to 1988, the second from 1989 to 1993 and so on. The last group will have years not appearing in the dataset.\n",
        "\n",
        "#####Note: The groups ranges are inclusive on both sides, the first group starts with 1984 and cars from 1984 are included in it.\n",
        "#####Format : A 7X2 list with the first element of each row being a tuple of two integers being the lower and uppper range of the year groups and the esecond element being the median Combined MPG of that group, a float number.\n",
        "\n",
        "#####Example answer:\n",
        "\n",
        "\n",
        "```\n",
        "[[(1984, 1988), 11.0],\n",
        " [(1989, 1993), 10.0],\n",
        " [(1994, 1998), 10.0],\n",
        " [(1999, 2003), 14.0],\n",
        " [(2004, 2008), 13.0],\n",
        " [(2009, 2013), 14.0],\n",
        " [(2014, 2018), 15.0]]\n",
        "```\n",
        "\n"
      ],
      "metadata": {
        "id": "gDNo1Fcesgk5"
      }
    },
    {
      "cell_type": "code",
      "source": [
        "########## Q7\n",
        "#Your code here\n",
        "\n",
        "ranges = [\n",
        "          [(1984, 1988)],\n",
        "          [(1989, 1993)],\n",
        "          [(1994, 1998)],\n",
        "          [(1999, 2003)],\n",
        "          [(2004, 2008)],\n",
        "          [(2009, 2013)],\n",
        "          [(2014, 2018)]\n",
        "]\n",
        "\n",
        "result_q7 = []\n",
        "\n",
        "for idx, years_interval in enumerate(ranges):\n",
        "  lower_bound  = years_interval[0][0]\n",
        "  upper_bound  = years_interval[0][1]\n",
        "  local_median = df.loc[(df['Year'] >= lower_bound) & (df['Year'] <= upper_bound), 'Combined MPG'].median()\n",
        "  result_q7.append([years_interval[0], local_median])\n",
        "\n",
        "\n",
        "answer_dict[\"Q7\"] = result_q7"
      ],
      "metadata": {
        "id": "1cMEyFXVxBU3"
      },
      "execution_count": 20,
      "outputs": []
    },
    {
      "cell_type": "code",
      "source": [
        "result_q7\n",
        "#result_q7 = \n",
        "#[[(1984, 1988), 19.0],\n",
        "# [(1989, 1993), 18.0],\n",
        "# [(1994, 1998), 19.0],\n",
        "# [(1999, 2003), 19.0],\n",
        "# [(2004, 2008), 19.0],\n",
        "# [(2009, 2013), 21.0],\n",
        "# [(2014, 2018), 22.0]]"
      ],
      "metadata": {
        "id": "cyekOg0SeWtE",
        "colab": {
          "base_uri": "https://localhost:8080/"
        },
        "outputId": "b7d1f91d-4d42-4fb8-d244-4aedf98b13cc"
      },
      "execution_count": 21,
      "outputs": [
        {
          "output_type": "execute_result",
          "data": {
            "text/plain": [
              "[[(1984, 1988), 19.0],\n",
              " [(1989, 1993), 18.0],\n",
              " [(1994, 1998), 19.0],\n",
              " [(1999, 2003), 19.0],\n",
              " [(2004, 2008), 19.0],\n",
              " [(2009, 2013), 21.0],\n",
              " [(2014, 2018), 22.0]]"
            ]
          },
          "metadata": {},
          "execution_count": 21
        }
      ]
    },
    {
      "cell_type": "markdown",
      "source": [
        "##Test your answers\n",
        "\n",
        "##### We provide you some tests to make sure your answer dictionary is in the correct format using unittest.\n",
        "##### These tests are not meant to be comprehensive, you should review all your answers carefully."
      ],
      "metadata": {
        "id": "LiGydnlQ4cX4"
      }
    },
    {
      "cell_type": "code",
      "source": [
        "import unittest\n",
        "\n",
        "class TestAnswers(unittest.TestCase):\n",
        "    def test_if_dict(self):\n",
        "        self.assertIsInstance(answer_dict, dict)\n",
        "\n",
        "    def test_keys(self):\n",
        "        self.assertEqual(list(answer_dict.keys()), ['Q1', 'Q2', 'Q3', 'Q4', 'Q5', 'Q6', 'Q7'])\n",
        "\n",
        "    def test_answers_types(self):\n",
        "        types_values = [type(k) for k in answer_dict.values()]\n",
        "        answer_types = [float, list, list, list, list, list, list]\n",
        "        self.assertEqual(types_values, answer_types)\n",
        "\n",
        "    def test_Q1(self):\n",
        "        self.assertEqual(type(answer_dict['Q1']), float)\n",
        "\n",
        "    def test_Q2_dim(self):\n",
        "        self.assertEqual(np.array(answer_dict['Q2']).shape, (5,2))\n",
        "\n",
        "    def test_Q2_types(self):\n",
        "        dtype1 = type(answer_dict['Q2'][0][0])\n",
        "        dtype2 = type(answer_dict['Q2'][0][1])\n",
        "        self.assertEqual([dtype1, dtype2], [str, int])\n",
        "\n",
        "    def test_Q3_types(self):\n",
        "        q3_types = set([type(item) for item in answer_dict['Q3']])\n",
        "        self.assertEqual(q3_types, {str})\n",
        "\n",
        "    def test_Q4_dim(self):\n",
        "        self.assertEqual(np.array(answer_dict['Q4']).shape, (9,3))\n",
        "\n",
        "    def test_Q4_types(self):\n",
        "        dtype1 = type(answer_dict['Q4'][0][0])\n",
        "        dtype2 = type(answer_dict['Q4'][0][1])\n",
        "        dtype3 = type(answer_dict['Q4'][0][2])\n",
        "        self.assertEqual([dtype1, dtype2, dtype3], [str, int, float])\n",
        "\n",
        "    def test_Q5_dim(self):\n",
        "        self.assertEqual(np.array(answer_dict['Q5']).shape, (19,3))\n",
        "\n",
        "    def test_Q5_types(self):\n",
        "        dtype1 = type(answer_dict['Q5'][0][0])\n",
        "        dtype2 = type(answer_dict['Q5'][0][1])\n",
        "        dtype3 = type(answer_dict['Q5'][0][2])\n",
        "        self.assertEqual([dtype1, dtype2, dtype3], [int, int, float])\n",
        "\n",
        "    def test_Q5_first_zero(self):\n",
        "        self.assertEqual(answer_dict['Q5'][0][2], 0)\n",
        "\n",
        "\n",
        "    def test_Q6_dim(self):\n",
        "        self.assertEqual(np.array(answer_dict['Q6']).shape, (5,6))\n",
        "\n",
        "    def test_Q5_types(self):\n",
        "        dtype1 = type(answer_dict['Q6'][0][0])\n",
        "        dtype2 = type(answer_dict['Q6'][0][1])\n",
        "        dtype3 = type(answer_dict['Q6'][0][2])\n",
        "        dtype4 = type(answer_dict['Q6'][0][3])\n",
        "        dtype5 = type(answer_dict['Q6'][0][4])\n",
        "        dtype6 = type(answer_dict['Q6'][0][5])\n",
        "        self.assertEqual([dtype1, dtype2, dtype3, dtype4, dtype5, dtype6], [str, float, float, float, float, float])\n",
        "\n",
        "    def test_Q6_check_first_and_last_brand(self):\n",
        "        first_brand = answer_dict['Q6'][0][0]\n",
        "        last_brand = answer_dict['Q6'][4][0]\n",
        "\n",
        "        self.assertEqual([first_brand, last_brand], [\"Toyota\", \"Honda\"])\n",
        "\n",
        "    def test_Q7_dim(self):\n",
        "        self.assertEqual(np.array(answer_dict['Q7'], dtype=object).shape, (7,2))\n",
        "\n",
        "    def test_Q7_types(self):\n",
        "        dtype1 = type(answer_dict['Q7'][0][0])\n",
        "        dtype2 = type(answer_dict['Q7'][0][1])\n",
        "        self.assertEqual([dtype1, dtype2], [tuple, float])\n",
        "\n",
        "unittest.main(argv=[''], verbosity=2, exit=False)"
      ],
      "metadata": {
        "id": "iNwVFmHZ4csn",
        "colab": {
          "base_uri": "https://localhost:8080/"
        },
        "outputId": "ce39c151-5fbd-43c5-fd7c-89fd7b966564"
      },
      "execution_count": 31,
      "outputs": [
        {
          "output_type": "stream",
          "name": "stderr",
          "text": [
            "test_Q1 (__main__.TestAnswers) ... ok\n",
            "test_Q2_dim (__main__.TestAnswers) ... ok\n",
            "test_Q2_types (__main__.TestAnswers) ... ok\n",
            "test_Q3_types (__main__.TestAnswers) ... ok\n",
            "test_Q4_dim (__main__.TestAnswers) ... ok\n",
            "test_Q4_types (__main__.TestAnswers) ... ok\n",
            "test_Q5_dim (__main__.TestAnswers) ... ok\n",
            "test_Q5_first_zero (__main__.TestAnswers) ... ok\n",
            "test_Q5_types (__main__.TestAnswers) ... ok\n",
            "test_Q6_check_first_and_last_brand (__main__.TestAnswers) ... ok\n",
            "test_Q6_dim (__main__.TestAnswers) ... ok\n",
            "test_Q7_dim (__main__.TestAnswers) ... ok\n",
            "test_Q7_types (__main__.TestAnswers) ... ok\n",
            "test_answers_types (__main__.TestAnswers) ... ok\n",
            "test_if_dict (__main__.TestAnswers) ... ok\n",
            "test_keys (__main__.TestAnswers) ... ok\n",
            "\n",
            "----------------------------------------------------------------------\n",
            "Ran 16 tests in 0.038s\n",
            "\n",
            "OK\n"
          ]
        },
        {
          "output_type": "execute_result",
          "data": {
            "text/plain": [
              "<unittest.main.TestProgram at 0x7f2584985bd0>"
            ]
          },
          "metadata": {},
          "execution_count": 31
        }
      ]
    },
    {
      "cell_type": "markdown",
      "source": [
        "##Save your answers\n",
        "\n",
        "\n",
        "##### First, take a moment to evaluate your answers and make sure you have not missed anything\n",
        "\n",
        "##### Use the following code to save your answers in pickle format, change the filename using the following format:\n",
        "##### FIRSTNAME_LASTNAME_answers.pkl\n",
        "##### Example: Juan_Perez_answers.pkl\n",
        "\n",
        "##### If you are using google colab you can find your file on the left side bar by clicking the folder icon inside the sample_data folder. Remember to upload the pickle file and the notebook to github and submit their URLs to the [google form](https://forms.gle/wWysZEMkoZsjB11Y7)."
      ],
      "metadata": {
        "id": "O_Wx_D0kGjmc"
      }
    },
    {
      "cell_type": "code",
      "source": [
        "answer_dict"
      ],
      "metadata": {
        "id": "nCzU1sKMknfH",
        "colab": {
          "base_uri": "https://localhost:8080/"
        },
        "outputId": "959382cb-1798-46e2-c28b-1be1101403f8"
      },
      "execution_count": 23,
      "outputs": [
        {
          "output_type": "execute_result",
          "data": {
            "text/plain": [
              "{'Q1': 392.7417210857633,\n",
              " 'Q2': [['Mercedes-Benz', 333],\n",
              "  ['BMW', 284],\n",
              "  ['Chevrolet', 253],\n",
              "  ['Ford', 185],\n",
              "  ['GMC', 163]],\n",
              " 'Q3': ['CNG',\n",
              "  'Diesel',\n",
              "  'Gasoline or E85',\n",
              "  'Gasoline or natural gas',\n",
              "  'Gasoline or propane',\n",
              "  'Midgrade',\n",
              "  'Premium',\n",
              "  'Premium Gas or Electricity',\n",
              "  'Premium and Electricity',\n",
              "  'Premium or E85',\n",
              "  'Regular',\n",
              "  'Regular Gas and Electricity',\n",
              "  'Regular Gas or Electricity'],\n",
              " 'Q4': [['Cab/Chassis 2WD', 1993, 4.113376218494312],\n",
              "  ['Cab/Chassis 2WD', 1992, 4.113376218494312],\n",
              "  ['Cab/Chassis 2WD', 1991, 4.113376218494312],\n",
              "  ['Cab/Chassis 2WD', 1990, 4.113376218494312],\n",
              "  ['Cab/Chassis 2WD', 1989, 4.113376218494312],\n",
              "  ['Camry CNG', 1999, -3.933613148435805],\n",
              "  ['Camry CNG', 2001, -3.932713521763228],\n",
              "  ['Camry CNG', 2000, -3.932713521763228],\n",
              "  ['Cab/Chassis 2WD', 1993, 3.3800324772464214]],\n",
              " 'Q5': [[1986, 26, 0.0],\n",
              "  [1987, 26, 0.0],\n",
              "  [1988, 25, -1.0],\n",
              "  [1989, 25, 0.0],\n",
              "  [1999, 24, -1.0],\n",
              "  [2000, 24, 0.0],\n",
              "  [2001, 24, 0.0],\n",
              "  [2002, 24, 0.0],\n",
              "  [2003, 24, 0.0],\n",
              "  [2004, 24, 0.0],\n",
              "  [2005, 24, 0.0],\n",
              "  [2006, 24, 0.0],\n",
              "  [2010, 25, 1.0],\n",
              "  [2011, 26, 1.0],\n",
              "  [2012, 26, 0.0],\n",
              "  [2013, 26, 0.0],\n",
              "  [2015, 30, 4.0],\n",
              "  [2016, 30, 0.0],\n",
              "  [2017, 29, -1.0]],\n",
              " 'Q6': [['Toyota', 133.0, 133.0, 133.0, 133.0, 158.0],\n",
              "  ['Ford', 112.0, 129.0, 129.0, 129.0, 129.0],\n",
              "  ['Volkswagen', 200.0, 200.0, 200.0, 200.0, 261.025641025641],\n",
              "  ['Nissan', 249.0, 254.0, 254.5, 254.5, 254.5],\n",
              "  ['Honda',\n",
              "   130.0,\n",
              "   167.67924528301887,\n",
              "   167.67924528301887,\n",
              "   167.67924528301887,\n",
              "   167.67924528301887]],\n",
              " 'Q7': [[(1984, 1988), 19.0],\n",
              "  [(1989, 1993), 18.0],\n",
              "  [(1994, 1998), 19.0],\n",
              "  [(1999, 2003), 19.0],\n",
              "  [(2004, 2008), 19.0],\n",
              "  [(2009, 2013), 21.0],\n",
              "  [(2014, 2018), 22.0]]}"
            ]
          },
          "metadata": {},
          "execution_count": 23
        }
      ]
    },
    {
      "cell_type": "code",
      "source": [
        "import pickle\n",
        "\n",
        "file_name = \"Ricardo_Salinas_answers.pkl\"\n",
        "path = \"\"\n",
        "\n",
        "with open(path+file_name, 'wb') as f:\n",
        "    pickle.dump(answer_dict, f, protocol=pickle.HIGHEST_PROTOCOL)"
      ],
      "metadata": {
        "id": "dEZ-vo0QGTeu"
      },
      "execution_count": 24,
      "outputs": []
    }
  ]
}